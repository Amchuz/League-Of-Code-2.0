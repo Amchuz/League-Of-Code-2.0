{
 "cells": [
  {
   "cell_type": "code",
   "execution_count": 4,
   "metadata": {
    "colab": {},
    "colab_type": "code",
    "executionInfo": {
     "elapsed": 943,
     "status": "ok",
     "timestamp": 1595485699834,
     "user": {
      "displayName": "ANANYA SHYAMAL",
      "photoUrl": "https://lh3.googleusercontent.com/a-/AOh14Gi4OHuTVvIW8hk4Ww2fv8V6NeCM03ZshNmNgEJo9WQ=s64",
      "userId": "09599147785941536625"
     },
     "user_tz": -330
    },
    "id": "-XGITku2VA_L"
   },
   "outputs": [],
   "source": [
    "import numpy as np \n",
    "import pandas as pd \n",
    "import matplotlib.pyplot as plt\n",
    "from scipy.stats import zscore\n",
    "import seaborn as sns\n",
    "import os"
   ]
  },
  {
   "cell_type": "code",
   "execution_count": 2,
   "metadata": {
    "colab": {},
    "colab_type": "code",
    "executionInfo": {
     "elapsed": 943,
     "status": "ok",
     "timestamp": 1595485699834,
     "user": {
      "displayName": "ANANYA SHYAMAL",
      "photoUrl": "https://lh3.googleusercontent.com/a-/AOh14Gi4OHuTVvIW8hk4Ww2fv8V6NeCM03ZshNmNgEJo9WQ=s64",
      "userId": "09599147785941536625"
     },
     "user_tz": -330
    },
    "id": "-XGITku2VA_L"
   },
   "outputs": [],
   "source": [
    "def cleaning(bank):\n",
    "    bank=bank.drop_duplicates()\n",
    "    print(\"Duplicates are dropped if any\")\n",
    "    missing = bank.isnull().any().any()\n",
    "    if missing == False:\n",
    "        print(\"no missing values\")\n",
    "    else:\n",
    "        print(\"missing values to be treated\")\n",
    "    list1=['job','marital','education','default','housing','loan','contact','month','poutcome','y']\n",
    "    for l in list1:\n",
    "        sns.countplot(y=l, data=bank, order = bank[l].value_counts().index)\n",
    "        plt.show()\n",
    "    bank.hist(figsize=(10,10), xrot=-45)\n",
    "    plt.show()\n",
    "    sns.heatmap(bank.isnull())\n",
    "    bank.isnull().sum()\n",
    "    print(bank.isnull().values.any())\n",
    "    bank = bank[bank.job != 'unknown']\n",
    "    bank = bank[bank.marital != 'unknown']\n",
    "    bank = bank[bank.education != 'unknown']\n",
    "    del bank['default']\n",
    "    del bank['duration']\n",
    "    del bank['contact']\n",
    "    bank.info()\n",
    "    bank[\"month\"].replace({\"jan\": 1,\"feb\": 2,\"mar\": 3,\"apr\": 4, \"may\": 5, \"jun\": 6,\"jul\": 7,\"aug\": 8,\"sep\": 9,\"oct\": 10,\"nov\": 11,\"dec\": 12,}, inplace=True)\n",
    "    bank.head(20)\n",
    "    sns.boxplot(x=bank['balance'])\n",
    "    bank[['balance']].mean()\n",
    "    bank['outliers'] = zscore(bank['balance'])\n",
    "    check = (bank['outliers']>3) | (bank['outliers']<-3 )\n",
    "    bank = bank.drop(bank[check].index, axis = 0, inplace = False)\n",
    "    bank = bank.drop('outliers', axis=1)\n",
    "    sns.boxplot(x=bank['balance'])\n",
    "    bank.job.replace(['retired', 'unemployed'], 'no_active_income', inplace=True)\n",
    "    bank.marital.replace(['single', 'divorced'], 'single', inplace=True)\n",
    "    list1=['job','marital','education','housing','loan','month','poutcome','y']\n",
    "    for l in list1:\n",
    "        sns.countplot(y=l, data=bank, order = bank[l].value_counts().index)\n",
    "        plt.show()\n",
    "    bank.job.replace(['entrepreneur', 'self-employed'], 'self-employed', inplace=True)\n",
    "    bank.job.replace(['admin.', 'management'], 'admini_management', inplace=True)\n",
    "    bank.job.replace(['blue-collar', 'technician'], 'blue-collar', inplace=True)\n",
    "    bank.rename(index=str, columns={'y': 'result'}, inplace = True)\n",
    "    return bank"
   ]
  },
  {
   "cell_type": "code",
   "execution_count": 12,
   "metadata": {},
   "outputs": [],
   "source": [
    "# Import the data \n",
    "bank_raw = pd.read_csv('bank-full.csv')"
   ]
  },
  {
   "cell_type": "code",
   "execution_count": null,
   "metadata": {},
   "outputs": [],
   "source": [
    "# Run cleaning function\n",
    "bank_cleaned = cleaning(bank_raw)"
   ]
  },
  {
   "cell_type": "code",
   "execution_count": null,
   "metadata": {},
   "outputs": [],
   "source": [
    "# Export the final data\n",
    "bank_cleaned.to_csv('cleaned_data.csv')"
   ]
  }
 ],
 "metadata": {
  "colab": {
   "name": "Data_Cleaning.ipynb",
   "provenance": []
  },
  "kernelspec": {
   "display_name": "Python 3",
   "language": "python",
   "name": "python3"
  },
  "language_info": {
   "codemirror_mode": {
    "name": "ipython",
    "version": 3
   },
   "file_extension": ".py",
   "mimetype": "text/x-python",
   "name": "python",
   "nbconvert_exporter": "python",
   "pygments_lexer": "ipython3",
   "version": "3.7.6"
  }
 },
 "nbformat": 4,
 "nbformat_minor": 1
}
